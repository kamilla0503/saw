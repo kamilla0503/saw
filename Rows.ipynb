{
 "cells": [
  {
   "cell_type": "code",
   "execution_count": 1,
   "metadata": {},
   "outputs": [],
   "source": [
    "import matplotlib.pyplot as plt\n",
    "import random\n",
    "import numpy as np\n",
    "\n",
    "import pandas as pd\n",
    "from matplotlib.ticker import LogFormatter \n",
    "from scipy.optimize import curve_fit\n",
    "from pathlib import Path\n",
    "import matplotlib.colors\n",
    "from matplotlib import ticker, cm\n",
    "%matplotlib notebook"
   ]
  },
  {
   "cell_type": "code",
   "execution_count": 9,
   "metadata": {},
   "outputs": [
    {
     "name": "stdout",
     "output_type": "stream",
     "text": [
      "$0.0$&-1.66982&0.188281&202& $ 299 \\times 10^9 $ \\\\ \\hline\n",
      "$0.1$&-1.67418&0.187462&200& $ 304 \\times 10^9 $ \\\\ \\hline\n",
      "$0.2$&-1.67898&0.186564&202& $ 305 \\times 10^9 $ \\\\ \\hline\n",
      "$0.3$&-1.68483&0.185476&192& $ 305 \\times 10^9 $ \\\\ \\hline\n",
      "$0.4$&-1.69117&0.184304&192& $ 300 \\times 10^9 $ \\\\ \\hline\n",
      "$0.5$&-1.69867&0.182927&185& $ 294 \\times 10^9 $ \\\\ \\hline\n",
      "$0.6$&-1.70734&0.181348&180& $ 284 \\times 10^9 $ \\\\ \\hline\n",
      "$0.7$&-1.71742&0.179529&174& $ 278 \\times 10^9 $ \\\\ \\hline\n",
      "$0.8$&-1.72937&0.177396&168& $ 287 \\times 10^9 $ \\\\ \\hline\n",
      "$0.9$&-1.74377&0.17486&158& $ 293 \\times 10^9 $ \\\\ \\hline\n",
      "$1.0$&-1.76111&0.171854&152& $ 292 \\times 10^9 $ \\\\ \\hline\n",
      "$1.1$&-1.78279&0.168168&145& $ 287 \\times 10^9 $ \\\\ \\hline\n",
      "$1.2$&-1.80983&0.163682&156& $ 281 \\times 10^9 $ \\\\ \\hline\n",
      "$1.3$&-1.8465&0.157788&179& $ 283 \\times 10^9 $ \\\\ \\hline\n",
      "$1.4$&-1.90124&0.149383&72& $ 347 \\times 10^9 $ \\\\ \\hline\n",
      "$1.5$&-1.959&0.140999&60& $ 368 \\times 10^9 $ \\\\ \\hline\n"
     ]
    }
   ],
   "source": [
    "for i in range(16):\n",
    "    file = \"HP_simulations/Main_Simulations/counts_hp_moresteps_\"+str(i/10)+\"00000_higher_hpc.txt\"\n",
    "    currentdata = np.genfromtxt(file, max_rows = 6, missing_values = \"\" )\n",
    "    epsb = currentdata[0][0]\n",
    "    epsa= currentdata[0][1]\n",
    "    fug  = round(np.exp(epsa), 6) \n",
    "    leng = round(currentdata[1][0])\n",
    "    steps = int( currentdata[0][2]/1000000000)\n",
    "    part1 = \"$\" + str(epsb) + \"$&\" + str(epsa) +\"&\" + str(fug)+\"&\" + str(int(leng)) + \"& $\"\n",
    "    part2 = str(steps) + r\" \\times 10^9 $ \\\\ \\hline\"\n",
    "    print(part1, part2)"
   ]
  },
  {
   "cell_type": "code",
   "execution_count": 15,
   "metadata": {},
   "outputs": [
    {
     "name": "stdout",
     "output_type": "stream",
     "text": [
      "$1.21$&-1.8093&0.163769&294& $ 237 \\times 10^9 $ \\\\ \\hline\n",
      "$1.22$&-1.8138&0.163033&232& $ 239 \\times 10^9 $ \\\\ \\hline\n",
      "$1.23$&-1.8183&0.162301&195& $ 244 \\times 10^9 $ \\\\ \\hline\n",
      "$1.24$&-1.8228&0.161573&170& $ 248 \\times 10^9 $ \\\\ \\hline\n",
      "$1.25$&-1.8273&0.160847&151& $ 247 \\times 10^9 $ \\\\ \\hline\n",
      "$1.26$&-1.8318&0.160125&139& $ 248 \\times 10^9 $ \\\\ \\hline\n",
      "$1.27$&-1.8363&0.159406&129& $ 250 \\times 10^9 $ \\\\ \\hline\n",
      "$1.28$&-1.8408&0.15869&120& $ 253 \\times 10^9 $ \\\\ \\hline\n",
      "$1.29$&-1.8453&0.157978&115& $ 247 \\times 10^9 $ \\\\ \\hline\n",
      "$1.3$&-1.8494&0.157332&116& $ 251 \\times 10^9 $ \\\\ \\hline\n",
      "$1.31$&-1.8536&0.156672&123& $ 252 \\times 10^9 $ \\\\ \\hline\n",
      "$1.32$&-1.8581&0.155969&118& $ 251 \\times 10^9 $ \\\\ \\hline\n",
      "$1.33$&-1.86235&0.155307&124& $ 244 \\times 10^9 $ \\\\ \\hline\n",
      "$1.34$&-1.86685&0.15461&127& $ 253 \\times 10^9 $ \\\\ \\hline\n",
      "$1.35$&-1.87106&0.15396&152& $ 257 \\times 10^9 $ \\\\ \\hline\n",
      "$1.36$&-1.87556&0.153269&166& $ 252 \\times 10^9 $ \\\\ \\hline\n",
      "$1.37$&-1.88006&0.152581&194& $ 260 \\times 10^9 $ \\\\ \\hline\n"
     ]
    }
   ],
   "source": [
    "for i in range(21, 38):\n",
    "    file = \"HP_simulations/Simulations_near_theta_point/counts_hp_moresteps_1.\"+str(i)+\"0000_higher_hpc.txt\"\n",
    "    currentdata = np.genfromtxt(file, max_rows = 6, missing_values = \"\" )\n",
    "    epsb = currentdata[0][0]\n",
    "    epsa= currentdata[0][1]\n",
    "    fug  = round(np.exp(epsa), 6) \n",
    "    leng = round(currentdata[1][0])\n",
    "    steps = int( currentdata[0][2]/1000000000)\n",
    "    part1 = \"$\" + str(epsb) + \"$&\" + str(epsa) +\"&\" + str(fug)+\"&\" + str(int(leng)) + \"& $\"\n",
    "    part2 = str(steps) + r\" \\times 10^9 $ \\\\ \\hline\"\n",
    "    print(part1, part2)"
   ]
  },
  {
   "cell_type": "code",
   "execution_count": null,
   "metadata": {},
   "outputs": [],
   "source": []
  }
 ],
 "metadata": {
  "kernelspec": {
   "display_name": "Python 3",
   "language": "python",
   "name": "python3"
  },
  "language_info": {
   "codemirror_mode": {
    "name": "ipython",
    "version": 3
   },
   "file_extension": ".py",
   "mimetype": "text/x-python",
   "name": "python",
   "nbconvert_exporter": "python",
   "pygments_lexer": "ipython3",
   "version": "3.8.8"
  }
 },
 "nbformat": 4,
 "nbformat_minor": 2
}
