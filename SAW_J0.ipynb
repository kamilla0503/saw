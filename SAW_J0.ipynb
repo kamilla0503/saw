{
 "cells": [
  {
   "cell_type": "code",
   "execution_count": 1,
   "id": "bc182ed4",
   "metadata": {},
   "outputs": [],
   "source": [
    "import matplotlib.pyplot as plt\n",
    "import random\n",
    "import numpy as np\n",
    "\n",
    "import pandas as pd\n",
    "from matplotlib.ticker import LogFormatter \n",
    "from scipy.optimize import curve_fit\n",
    "from pathlib import Path\n",
    "import matplotlib.colors\n",
    "from matplotlib import ticker, cm\n",
    "import pickle\n",
    "\n",
    "from scipy.stats import norm\n",
    "\n",
    "#%matplotlib notebook"
   ]
  },
  {
   "cell_type": "code",
   "execution_count": 2,
   "id": "d1814103",
   "metadata": {},
   "outputs": [
    {
     "data": {
      "image/png": "[encoded data removed]",
      "text/plain": [
       "<Figure size 1296x360 with 3 Axes>"
      ]
     },
     "metadata": {
      "needs_background": "light"
     },
     "output_type": "display_data"
    }
   ],
   "source": [
    "with open('Homopolymer_simulations/Canonical/bulk_EE_from_5_to_11.pickle', 'rb') as f:\n",
    "    data_EE = pickle.load(f)\n",
    " \n",
    "lengths=np.arange(5,12)\n",
    "data_np = np.array(data_EE)\n",
    "\n",
    "fig, axes = plt.subplots(1, 3, figsize=(18,5)) #,  sharey='row')\n",
    "axes = axes.reshape(-1)\n",
    "\n",
    "#Exact enumeration data\n",
    "axes[0].scatter(1/lengths, data_np[:,0], c =\"k\", label = \"j = 0\"  )\n",
    "axes[1].scatter(1/lengths, data_np[:,1]-1/4,c =\"k\", label = \"j = 0\"  )\n",
    "axes[2].scatter(1/lengths, data_np[:,2],c =\"k\",  label = \"j = 0\"  )\n",
    "\n",
    "\n",
    "#MC data\n",
    "data_np = np.loadtxt(\"Homopolymer_simulations/Canonical/zero.txt\", skiprows=0)\n",
    "y= np.argsort(data_np[:, 0],kind='mergesort')\n",
    "data_np=data_np[y]\n",
    "\n",
    "lengths = data_np[:, 0]\n",
    "\n",
    "axes[0].errorbar(1/lengths, data_np[:,20], yerr=data_np[:,21],  fmt=\"s\", ms = 10, label = \"j = 0\",fillstyle='none'  )\n",
    "axes[1].errorbar(1/lengths, np.abs(data_np[:,22]-0.25), yerr=data_np[:,23],  fmt=\"s\", ms = 10, label = \"j = 0\",fillstyle='none'  )\n",
    "axes[2].errorbar(1/lengths, data_np[:,24], yerr=data_np[:,25],  fmt=\"s\", ms = 10, label = \"j = 0\",fillstyle='none'  )\n",
    "   \n",
    "axes[0].set_title(r'$n_2$')    \n",
    "axes[1].set_title(r'$n_3$')    \n",
    "axes[2].set_title(r'$n_4$') \n",
    " \n",
    " \n",
    "    \n",
    "    \n",
    "A = np.vstack([1/lengths[2:], np.ones(len(lengths[2:]))]).T\n",
    "#print(A.shape)\n",
    "m1, c1 = np.linalg.lstsq( np.log(A), np.log(np.abs(data_np[2:,22]-0.25 )) , rcond=None)[0]\n",
    "\n",
    "axes[1].plot(1/lengths[2:],1/lengths[2:]*m1+c1, \"o--\")\n",
    "\n",
    "for i in range(3):\n",
    "    axes[i].set_xlabel(\"1/N\", fontsize=12)\n",
    "    axes[i].set_xscale('log')\n",
    "    axes[i].set_yscale('log')"
   ]
  },
  {
   "cell_type": "code",
   "execution_count": 3,
   "id": "671940cb",
   "metadata": {},
   "outputs": [
    {
     "data": {
      "text/plain": [
       "array([   5.,    6.,    7.,    8.,    9.,   10.,   11.,   15.,   20.,\n",
       "         30.,   50.,  100.,  400., 1000., 2500., 3600., 4900.])"
      ]
     },
     "execution_count": 3,
     "metadata": {},
     "output_type": "execute_result"
    }
   ],
   "source": [
    "lengths = data_np[:, 0]\n",
    "lengths"
   ]
  },
  {
   "cell_type": "code",
   "execution_count": 4,
   "id": "8191758f",
   "metadata": {},
   "outputs": [],
   "source": [
    "df = pd.DataFrame({\"L\": data_np[:, 0],\n",
    "                   \"n2\" : data_np[:, 20],\n",
    "                   \"dn2\": data_np[:, 21],\n",
    "                   \"n3\" : data_np[:, 22], \n",
    "                   \"dn3\" : data_np[:, 23],\n",
    "                   \"n4\" : data_np[:, 24], \n",
    "                   \"dn4\" : data_np[:, 25],\n",
    "\n",
    "                  })"
   ]
  },
  {
   "cell_type": "code",
   "execution_count": 5,
   "id": "cc4bc420",
   "metadata": {},
   "outputs": [
    {
     "data": {
      "text/html": [
       "<div>\n",
       "<style scoped>\n",
       "    .dataframe tbody tr th:only-of-type {\n",
       "        vertical-align: middle;\n",
       "    }\n",
       "\n",
       "    .dataframe tbody tr th {\n",
       "        vertical-align: top;\n",
       "    }\n",
       "\n",
       "    .dataframe thead th {\n",
       "        text-align: right;\n",
       "    }\n",
       "</style>\n",
       "<table border=\"1\" class=\"dataframe\">\n",
       "  <thead>\n",
       "    <tr style=\"text-align: right;\">\n",
       "      <th></th>\n",
       "      <th>L</th>\n",
       "      <th>n2</th>\n",
       "      <th>dn2</th>\n",
       "      <th>n3</th>\n",
       "      <th>dn3</th>\n",
       "      <th>n4</th>\n",
       "      <th>dn4</th>\n",
       "    </tr>\n",
       "  </thead>\n",
       "  <tbody>\n",
       "    <tr>\n",
       "      <th>0</th>\n",
       "      <td>5.0</td>\n",
       "      <td>0.600000</td>\n",
       "      <td>3.725290e-09</td>\n",
       "      <td>0.064013</td>\n",
       "      <td>0.000014</td>\n",
       "      <td>0.000000</td>\n",
       "      <td>0.000000</td>\n",
       "    </tr>\n",
       "    <tr>\n",
       "      <th>1</th>\n",
       "      <td>6.0</td>\n",
       "      <td>0.638487</td>\n",
       "      <td>9.743560e-06</td>\n",
       "      <td>0.103298</td>\n",
       "      <td>0.000017</td>\n",
       "      <td>0.000000</td>\n",
       "      <td>0.000000</td>\n",
       "    </tr>\n",
       "    <tr>\n",
       "      <th>2</th>\n",
       "      <td>7.0</td>\n",
       "      <td>0.643961</td>\n",
       "      <td>1.881120e-05</td>\n",
       "      <td>0.120137</td>\n",
       "      <td>0.000023</td>\n",
       "      <td>0.005864</td>\n",
       "      <td>0.000003</td>\n",
       "    </tr>\n",
       "    <tr>\n",
       "      <th>3</th>\n",
       "      <td>8.0</td>\n",
       "      <td>0.660655</td>\n",
       "      <td>2.561870e-05</td>\n",
       "      <td>0.139069</td>\n",
       "      <td>0.000026</td>\n",
       "      <td>0.009202</td>\n",
       "      <td>0.000005</td>\n",
       "    </tr>\n",
       "    <tr>\n",
       "      <th>4</th>\n",
       "      <td>9.0</td>\n",
       "      <td>0.663796</td>\n",
       "      <td>3.060180e-05</td>\n",
       "      <td>0.149900</td>\n",
       "      <td>0.000031</td>\n",
       "      <td>0.012160</td>\n",
       "      <td>0.000006</td>\n",
       "    </tr>\n",
       "    <tr>\n",
       "      <th>5</th>\n",
       "      <td>10.0</td>\n",
       "      <td>0.672215</td>\n",
       "      <td>4.955720e-05</td>\n",
       "      <td>0.161410</td>\n",
       "      <td>0.000051</td>\n",
       "      <td>0.014772</td>\n",
       "      <td>0.000010</td>\n",
       "    </tr>\n",
       "    <tr>\n",
       "      <th>6</th>\n",
       "      <td>11.0</td>\n",
       "      <td>0.674498</td>\n",
       "      <td>6.221550e-05</td>\n",
       "      <td>0.168824</td>\n",
       "      <td>0.000060</td>\n",
       "      <td>0.016698</td>\n",
       "      <td>0.000013</td>\n",
       "    </tr>\n",
       "    <tr>\n",
       "      <th>7</th>\n",
       "      <td>15.0</td>\n",
       "      <td>0.685898</td>\n",
       "      <td>3.234040e-05</td>\n",
       "      <td>0.191610</td>\n",
       "      <td>0.000027</td>\n",
       "      <td>0.021953</td>\n",
       "      <td>0.000008</td>\n",
       "    </tr>\n",
       "    <tr>\n",
       "      <th>8</th>\n",
       "      <td>20.0</td>\n",
       "      <td>0.693051</td>\n",
       "      <td>3.023080e-05</td>\n",
       "      <td>0.207711</td>\n",
       "      <td>0.000028</td>\n",
       "      <td>0.025353</td>\n",
       "      <td>0.000008</td>\n",
       "    </tr>\n",
       "    <tr>\n",
       "      <th>9</th>\n",
       "      <td>30.0</td>\n",
       "      <td>0.699565</td>\n",
       "      <td>4.648210e-05</td>\n",
       "      <td>0.223207</td>\n",
       "      <td>0.000040</td>\n",
       "      <td>0.028526</td>\n",
       "      <td>0.000012</td>\n",
       "    </tr>\n",
       "    <tr>\n",
       "      <th>10</th>\n",
       "      <td>50.0</td>\n",
       "      <td>0.704637</td>\n",
       "      <td>7.666490e-05</td>\n",
       "      <td>0.235540</td>\n",
       "      <td>0.000068</td>\n",
       "      <td>0.030895</td>\n",
       "      <td>0.000018</td>\n",
       "    </tr>\n",
       "    <tr>\n",
       "      <th>11</th>\n",
       "      <td>100.0</td>\n",
       "      <td>0.708565</td>\n",
       "      <td>6.612010e-05</td>\n",
       "      <td>0.244502</td>\n",
       "      <td>0.000052</td>\n",
       "      <td>0.032586</td>\n",
       "      <td>0.000019</td>\n",
       "    </tr>\n",
       "    <tr>\n",
       "      <th>12</th>\n",
       "      <td>400.0</td>\n",
       "      <td>0.711937</td>\n",
       "      <td>1.190990e-04</td>\n",
       "      <td>0.250775</td>\n",
       "      <td>0.000097</td>\n",
       "      <td>0.033725</td>\n",
       "      <td>0.000044</td>\n",
       "    </tr>\n",
       "    <tr>\n",
       "      <th>13</th>\n",
       "      <td>1000.0</td>\n",
       "      <td>0.712505</td>\n",
       "      <td>6.561710e-05</td>\n",
       "      <td>0.252120</td>\n",
       "      <td>0.000054</td>\n",
       "      <td>0.033950</td>\n",
       "      <td>0.000023</td>\n",
       "    </tr>\n",
       "    <tr>\n",
       "      <th>14</th>\n",
       "      <td>2500.0</td>\n",
       "      <td>0.712882</td>\n",
       "      <td>1.089980e-04</td>\n",
       "      <td>0.252492</td>\n",
       "      <td>0.000098</td>\n",
       "      <td>0.034056</td>\n",
       "      <td>0.000038</td>\n",
       "    </tr>\n",
       "    <tr>\n",
       "      <th>15</th>\n",
       "      <td>3600.0</td>\n",
       "      <td>0.712753</td>\n",
       "      <td>1.770390e-04</td>\n",
       "      <td>0.252838</td>\n",
       "      <td>0.000142</td>\n",
       "      <td>0.034014</td>\n",
       "      <td>0.000067</td>\n",
       "    </tr>\n",
       "    <tr>\n",
       "      <th>16</th>\n",
       "      <td>4900.0</td>\n",
       "      <td>0.713155</td>\n",
       "      <td>3.221400e-04</td>\n",
       "      <td>0.252498</td>\n",
       "      <td>0.000267</td>\n",
       "      <td>0.034056</td>\n",
       "      <td>0.000080</td>\n",
       "    </tr>\n",
       "  </tbody>\n",
       "</table>\n",
       "</div>"
      ],
      "text/plain": [
       "         L        n2           dn2        n3       dn3        n4       dn4\n",
       "0      5.0  0.600000  3.725290e-09  0.064013  0.000014  0.000000  0.000000\n",
       "1      6.0  0.638487  9.743560e-06  0.103298  0.000017  0.000000  0.000000\n",
       "2      7.0  0.643961  1.881120e-05  0.120137  0.000023  0.005864  0.000003\n",
       "3      8.0  0.660655  2.561870e-05  0.139069  0.000026  0.009202  0.000005\n",
       "4      9.0  0.663796  3.060180e-05  0.149900  0.000031  0.012160  0.000006\n",
       "5     10.0  0.672215  4.955720e-05  0.161410  0.000051  0.014772  0.000010\n",
       "6     11.0  0.674498  6.221550e-05  0.168824  0.000060  0.016698  0.000013\n",
       "7     15.0  0.685898  3.234040e-05  0.191610  0.000027  0.021953  0.000008\n",
       "8     20.0  0.693051  3.023080e-05  0.207711  0.000028  0.025353  0.000008\n",
       "9     30.0  0.699565  4.648210e-05  0.223207  0.000040  0.028526  0.000012\n",
       "10    50.0  0.704637  7.666490e-05  0.235540  0.000068  0.030895  0.000018\n",
       "11   100.0  0.708565  6.612010e-05  0.244502  0.000052  0.032586  0.000019\n",
       "12   400.0  0.711937  1.190990e-04  0.250775  0.000097  0.033725  0.000044\n",
       "13  1000.0  0.712505  6.561710e-05  0.252120  0.000054  0.033950  0.000023\n",
       "14  2500.0  0.712882  1.089980e-04  0.252492  0.000098  0.034056  0.000038\n",
       "15  3600.0  0.712753  1.770390e-04  0.252838  0.000142  0.034014  0.000067\n",
       "16  4900.0  0.713155  3.221400e-04  0.252498  0.000267  0.034056  0.000080"
      ]
     },
     "execution_count": 5,
     "metadata": {},
     "output_type": "execute_result"
    }
   ],
   "source": [
    "df = df.sort_values(by=\"L\")\n",
    "df"
   ]
  },
  {
   "cell_type": "code",
   "execution_count": 6,
   "id": "d11f6664",
   "metadata": {},
   "outputs": [
    {
     "data": {
      "text/html": [
       "<div>\n",
       "<style scoped>\n",
       "    .dataframe tbody tr th:only-of-type {\n",
       "        vertical-align: middle;\n",
       "    }\n",
       "\n",
       "    .dataframe tbody tr th {\n",
       "        vertical-align: top;\n",
       "    }\n",
       "\n",
       "    .dataframe thead th {\n",
       "        text-align: right;\n",
       "    }\n",
       "</style>\n",
       "<table border=\"1\" class=\"dataframe\">\n",
       "  <thead>\n",
       "    <tr style=\"text-align: right;\">\n",
       "      <th></th>\n",
       "      <th>L</th>\n",
       "      <th>n2</th>\n",
       "      <th>dn2</th>\n",
       "      <th>n3</th>\n",
       "      <th>dn3</th>\n",
       "      <th>n4</th>\n",
       "      <th>dn4</th>\n",
       "    </tr>\n",
       "  </thead>\n",
       "  <tbody>\n",
       "    <tr>\n",
       "      <th>0</th>\n",
       "      <td>5.0</td>\n",
       "      <td>0.600000</td>\n",
       "      <td>3.725290e-09</td>\n",
       "      <td>0.064013</td>\n",
       "      <td>0.000014</td>\n",
       "      <td>0.000000</td>\n",
       "      <td>0.000000</td>\n",
       "    </tr>\n",
       "    <tr>\n",
       "      <th>1</th>\n",
       "      <td>6.0</td>\n",
       "      <td>0.638487</td>\n",
       "      <td>9.743560e-06</td>\n",
       "      <td>0.103298</td>\n",
       "      <td>0.000017</td>\n",
       "      <td>0.000000</td>\n",
       "      <td>0.000000</td>\n",
       "    </tr>\n",
       "    <tr>\n",
       "      <th>2</th>\n",
       "      <td>7.0</td>\n",
       "      <td>0.643961</td>\n",
       "      <td>1.881120e-05</td>\n",
       "      <td>0.120137</td>\n",
       "      <td>0.000023</td>\n",
       "      <td>0.005864</td>\n",
       "      <td>0.000003</td>\n",
       "    </tr>\n",
       "    <tr>\n",
       "      <th>3</th>\n",
       "      <td>8.0</td>\n",
       "      <td>0.660655</td>\n",
       "      <td>2.561870e-05</td>\n",
       "      <td>0.139069</td>\n",
       "      <td>0.000026</td>\n",
       "      <td>0.009202</td>\n",
       "      <td>0.000005</td>\n",
       "    </tr>\n",
       "    <tr>\n",
       "      <th>4</th>\n",
       "      <td>9.0</td>\n",
       "      <td>0.663796</td>\n",
       "      <td>3.060180e-05</td>\n",
       "      <td>0.149900</td>\n",
       "      <td>0.000031</td>\n",
       "      <td>0.012160</td>\n",
       "      <td>0.000006</td>\n",
       "    </tr>\n",
       "    <tr>\n",
       "      <th>5</th>\n",
       "      <td>10.0</td>\n",
       "      <td>0.672215</td>\n",
       "      <td>4.955720e-05</td>\n",
       "      <td>0.161410</td>\n",
       "      <td>0.000051</td>\n",
       "      <td>0.014772</td>\n",
       "      <td>0.000010</td>\n",
       "    </tr>\n",
       "    <tr>\n",
       "      <th>6</th>\n",
       "      <td>11.0</td>\n",
       "      <td>0.674498</td>\n",
       "      <td>6.221550e-05</td>\n",
       "      <td>0.168824</td>\n",
       "      <td>0.000060</td>\n",
       "      <td>0.016698</td>\n",
       "      <td>0.000013</td>\n",
       "    </tr>\n",
       "    <tr>\n",
       "      <th>7</th>\n",
       "      <td>15.0</td>\n",
       "      <td>0.685898</td>\n",
       "      <td>3.234040e-05</td>\n",
       "      <td>0.191610</td>\n",
       "      <td>0.000027</td>\n",
       "      <td>0.021953</td>\n",
       "      <td>0.000008</td>\n",
       "    </tr>\n",
       "    <tr>\n",
       "      <th>8</th>\n",
       "      <td>20.0</td>\n",
       "      <td>0.693051</td>\n",
       "      <td>3.023080e-05</td>\n",
       "      <td>0.207711</td>\n",
       "      <td>0.000028</td>\n",
       "      <td>0.025353</td>\n",
       "      <td>0.000008</td>\n",
       "    </tr>\n",
       "    <tr>\n",
       "      <th>9</th>\n",
       "      <td>30.0</td>\n",
       "      <td>0.699565</td>\n",
       "      <td>4.648210e-05</td>\n",
       "      <td>0.223207</td>\n",
       "      <td>0.000040</td>\n",
       "      <td>0.028526</td>\n",
       "      <td>0.000012</td>\n",
       "    </tr>\n",
       "    <tr>\n",
       "      <th>10</th>\n",
       "      <td>50.0</td>\n",
       "      <td>0.704637</td>\n",
       "      <td>7.666490e-05</td>\n",
       "      <td>0.235540</td>\n",
       "      <td>0.000068</td>\n",
       "      <td>0.030895</td>\n",
       "      <td>0.000018</td>\n",
       "    </tr>\n",
       "    <tr>\n",
       "      <th>11</th>\n",
       "      <td>100.0</td>\n",
       "      <td>0.708565</td>\n",
       "      <td>6.612010e-05</td>\n",
       "      <td>0.244502</td>\n",
       "      <td>0.000052</td>\n",
       "      <td>0.032586</td>\n",
       "      <td>0.000019</td>\n",
       "    </tr>\n",
       "    <tr>\n",
       "      <th>12</th>\n",
       "      <td>400.0</td>\n",
       "      <td>0.711937</td>\n",
       "      <td>1.190990e-04</td>\n",
       "      <td>0.250775</td>\n",
       "      <td>0.000097</td>\n",
       "      <td>0.033725</td>\n",
       "      <td>0.000044</td>\n",
       "    </tr>\n",
       "    <tr>\n",
       "      <th>13</th>\n",
       "      <td>1000.0</td>\n",
       "      <td>0.712505</td>\n",
       "      <td>6.561710e-05</td>\n",
       "      <td>0.252120</td>\n",
       "      <td>0.000054</td>\n",
       "      <td>0.033950</td>\n",
       "      <td>0.000023</td>\n",
       "    </tr>\n",
       "    <tr>\n",
       "      <th>14</th>\n",
       "      <td>2500.0</td>\n",
       "      <td>0.712882</td>\n",
       "      <td>1.089980e-04</td>\n",
       "      <td>0.252492</td>\n",
       "      <td>0.000098</td>\n",
       "      <td>0.034056</td>\n",
       "      <td>0.000038</td>\n",
       "    </tr>\n",
       "    <tr>\n",
       "      <th>15</th>\n",
       "      <td>3600.0</td>\n",
       "      <td>0.712753</td>\n",
       "      <td>1.770390e-04</td>\n",
       "      <td>0.252838</td>\n",
       "      <td>0.000142</td>\n",
       "      <td>0.034014</td>\n",
       "      <td>0.000067</td>\n",
       "    </tr>\n",
       "    <tr>\n",
       "      <th>16</th>\n",
       "      <td>4900.0</td>\n",
       "      <td>0.713155</td>\n",
       "      <td>3.221400e-04</td>\n",
       "      <td>0.252498</td>\n",
       "      <td>0.000267</td>\n",
       "      <td>0.034056</td>\n",
       "      <td>0.000080</td>\n",
       "    </tr>\n",
       "  </tbody>\n",
       "</table>\n",
       "</div>"
      ],
      "text/plain": [
       "         L        n2           dn2        n3       dn3        n4       dn4\n",
       "0      5.0  0.600000  3.725290e-09  0.064013  0.000014  0.000000  0.000000\n",
       "1      6.0  0.638487  9.743560e-06  0.103298  0.000017  0.000000  0.000000\n",
       "2      7.0  0.643961  1.881120e-05  0.120137  0.000023  0.005864  0.000003\n",
       "3      8.0  0.660655  2.561870e-05  0.139069  0.000026  0.009202  0.000005\n",
       "4      9.0  0.663796  3.060180e-05  0.149900  0.000031  0.012160  0.000006\n",
       "5     10.0  0.672215  4.955720e-05  0.161410  0.000051  0.014772  0.000010\n",
       "6     11.0  0.674498  6.221550e-05  0.168824  0.000060  0.016698  0.000013\n",
       "7     15.0  0.685898  3.234040e-05  0.191610  0.000027  0.021953  0.000008\n",
       "8     20.0  0.693051  3.023080e-05  0.207711  0.000028  0.025353  0.000008\n",
       "9     30.0  0.699565  4.648210e-05  0.223207  0.000040  0.028526  0.000012\n",
       "10    50.0  0.704637  7.666490e-05  0.235540  0.000068  0.030895  0.000018\n",
       "11   100.0  0.708565  6.612010e-05  0.244502  0.000052  0.032586  0.000019\n",
       "12   400.0  0.711937  1.190990e-04  0.250775  0.000097  0.033725  0.000044\n",
       "13  1000.0  0.712505  6.561710e-05  0.252120  0.000054  0.033950  0.000023\n",
       "14  2500.0  0.712882  1.089980e-04  0.252492  0.000098  0.034056  0.000038\n",
       "15  3600.0  0.712753  1.770390e-04  0.252838  0.000142  0.034014  0.000067\n",
       "16  4900.0  0.713155  3.221400e-04  0.252498  0.000267  0.034056  0.000080"
      ]
     },
     "execution_count": 6,
     "metadata": {},
     "output_type": "execute_result"
    }
   ],
   "source": [
    "df"
   ]
  },
  {
   "cell_type": "code",
   "execution_count": null,
   "id": "e84f6469",
   "metadata": {},
   "outputs": [],
   "source": []
  },
  {
   "cell_type": "code",
   "execution_count": 7,
   "id": "bb84d529",
   "metadata": {},
   "outputs": [
    {
     "data": {
      "text/plain": [
       "Text(0.5, 1.0, '$a = 4$')"
      ]
     },
     "execution_count": 7,
     "metadata": {},
     "output_type": "execute_result"
    },
    {
     "data": {
      "image/png": "[encoded data removed]",
      "text/plain": [
       "<Figure size 432x288 with 1 Axes>"
      ]
     },
     "metadata": {
      "needs_background": "light"
     },
     "output_type": "display_data"
    }
   ],
   "source": [
    "plt.errorbar(1/df[\"L\"], df[\"n4\"], yerr=df[\"dn4\"], fmt='o-')\n",
    "#plt.yscale('log')\n",
    "#plt.xscale('log')\n",
    "plt.grid(True)\n",
    "plt.title(r'$a = 4$')"
   ]
  },
  {
   "cell_type": "code",
   "execution_count": 8,
   "id": "2ee919e5",
   "metadata": {},
   "outputs": [
    {
     "data": {
      "text/plain": [
       "Text(0.5, 1.0, '$1/4 - n_3$')"
      ]
     },
     "execution_count": 8,
     "metadata": {},
     "output_type": "execute_result"
    },
    {
     "data": {
      "image/png": "[encoded data removed]",
      "text/plain": [
       "<Figure size 432x288 with 1 Axes>"
      ]
     },
     "metadata": {
      "needs_background": "light"
     },
     "output_type": "display_data"
    }
   ],
   "source": [
    "plt.errorbar(1/df[\"L\"], abs(0.25-df[\"n3\"]), yerr=df[\"dn3\"], fmt='o-')\n",
    "#plt.xscale('log')\n",
    "#plt.yscale('log')\n",
    "plt.grid()\n",
    "plt.title(r'$1/4 - n_3$')"
   ]
  },
  {
   "cell_type": "code",
   "execution_count": 9,
   "id": "31b39e78",
   "metadata": {},
   "outputs": [
    {
     "data": {
      "text/plain": [
       "Text(0.5, 1.0, '$a = 2$')"
      ]
     },
     "execution_count": 9,
     "metadata": {},
     "output_type": "execute_result"
    },
    {
     "data": {
      "image/png": "[encoded data removed]",
      "text/plain": [
       "<Figure size 432x288 with 1 Axes>"
      ]
     },
     "metadata": {
      "needs_background": "light"
     },
     "output_type": "display_data"
    }
   ],
   "source": [
    "plt.errorbar(1/df[\"L\"], 0.75 - df[\"n2\"], yerr=df[\"dn2\"], fmt='o-')\n",
    "#plt.xscale('log')\n",
    "#plt.yscale('log')\n",
    "plt.grid()\n",
    "plt.title(r'$a = 2$')"
   ]
  },
  {
   "cell_type": "code",
   "execution_count": 10,
   "id": "fd70dd35",
   "metadata": {},
   "outputs": [
    {
     "data": {
      "text/plain": [
       "0        5.0\n",
       "1        6.0\n",
       "2        7.0\n",
       "3        8.0\n",
       "4        9.0\n",
       "5       10.0\n",
       "6       11.0\n",
       "7       15.0\n",
       "8       20.0\n",
       "9       30.0\n",
       "10      50.0\n",
       "11     100.0\n",
       "12     400.0\n",
       "13    1000.0\n",
       "14    2500.0\n",
       "15    3600.0\n",
       "16    4900.0\n",
       "Name: L, dtype: float64"
      ]
     },
     "execution_count": 10,
     "metadata": {},
     "output_type": "execute_result"
    }
   ],
   "source": [
    "df[\"L\"]"
   ]
  },
  {
   "cell_type": "code",
   "execution_count": 11,
   "id": "76bcd8fd",
   "metadata": {},
   "outputs": [
    {
     "data": {
      "image/png": "[encoded data removed]",
      "text/plain": [
       "<Figure size 432x288 with 1 Axes>"
      ]
     },
     "metadata": {
      "needs_background": "light"
     },
     "output_type": "display_data"
    }
   ],
   "source": [
    "plt.loglog(1/df[\"L\"], 0.25 - df[\"n3\"], 'o-')\n",
    "plt.grid()"
   ]
  },
  {
   "cell_type": "code",
   "execution_count": null,
   "id": "1da75126",
   "metadata": {},
   "outputs": [],
   "source": []
  }
 ],
 "metadata": {
  "kernelspec": {
   "display_name": "Python 3",
   "language": "python",
   "name": "python3"
  },
  "language_info": {
   "codemirror_mode": {
    "name": "ipython",
    "version": 3
   },
   "file_extension": ".py",
   "mimetype": "text/x-python",
   "name": "python",
   "nbconvert_exporter": "python",
   "pygments_lexer": "ipython3",
   "version": "3.8.8"
  }
 },
 "nbformat": 4,
 "nbformat_minor": 5
}
